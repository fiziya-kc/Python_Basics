{
 "cells": [
  {
   "cell_type": "code",
   "execution_count": 1,
   "id": "9b0e237d",
   "metadata": {},
   "outputs": [
    {
     "name": "stdout",
     "output_type": "stream",
     "text": [
      "Hi My Name is Fiziya\n"
     ]
    }
   ],
   "source": [
    "print(\"Hi My Name is Fiziya\")"
   ]
  },
  {
   "cell_type": "markdown",
   "id": "0ac20c2c",
   "metadata": {},
   "source": [
    "#### Variables in Python"
   ]
  },
  {
   "cell_type": "code",
   "execution_count": 2,
   "id": "5ec1e601",
   "metadata": {},
   "outputs": [],
   "source": [
    "favorite_Color = \"Green\""
   ]
  },
  {
   "cell_type": "code",
   "execution_count": 4,
   "id": "c96e7bb7",
   "metadata": {},
   "outputs": [
    {
     "data": {
      "text/plain": [
       "'Green'"
      ]
     },
     "execution_count": 4,
     "metadata": {},
     "output_type": "execute_result"
    }
   ],
   "source": [
    "favorite_Color"
   ]
  },
  {
   "cell_type": "code",
   "execution_count": 5,
   "id": "b4577202",
   "metadata": {},
   "outputs": [],
   "source": [
    "favorite_Color=\"Black\""
   ]
  },
  {
   "cell_type": "code",
   "execution_count": 6,
   "id": "caa6e8ab",
   "metadata": {},
   "outputs": [
    {
     "data": {
      "text/plain": [
       "'Black'"
      ]
     },
     "execution_count": 6,
     "metadata": {},
     "output_type": "execute_result"
    }
   ],
   "source": [
    "favorite_Color"
   ]
  },
  {
   "cell_type": "markdown",
   "id": "eab5996f",
   "metadata": {},
   "source": [
    "# Data Types in Python"
   ]
  },
  {
   "cell_type": "code",
   "execution_count": 12,
   "id": "b2fc9675",
   "metadata": {},
   "outputs": [],
   "source": [
    "# Integers\n",
    "age = 10\n",
    "number_of_toys = 25\n",
    "\n",
    "# Floating-Point Numbers\n",
    "pi = 3.14\n",
    "temperature = 25.5\n",
    "\n",
    "# Boolean\n",
    "is_sunny = True\n",
    "is_raining = False\n",
    "\n",
    "# String\n",
    "name = \"Alice\"\n",
    "favorite_color = \"blue\"\n",
    "greeting = \"Hello, how are you?\"\n",
    "\n",
    "# complex\n",
    "complex_number=3+4j"
   ]
  },
  {
   "cell_type": "code",
   "execution_count": 20,
   "id": "a0ea90a4",
   "metadata": {},
   "outputs": [
    {
     "data": {
      "text/plain": [
       "int"
      ]
     },
     "execution_count": 20,
     "metadata": {},
     "output_type": "execute_result"
    }
   ],
   "source": [
    "a=10\n",
    "a"
   ]
  },
  {
   "cell_type": "code",
   "execution_count": 9,
   "id": "e8cc7e6a",
   "metadata": {},
   "outputs": [],
   "source": [
    "type(a)"
   ]
  },
  {
   "cell_type": "code",
   "execution_count": 21,
   "id": "e8765c96",
   "metadata": {},
   "outputs": [
    {
     "data": {
      "text/plain": [
       "float"
      ]
     },
     "execution_count": 21,
     "metadata": {},
     "output_type": "execute_result"
    }
   ],
   "source": [
    "a=5.933\n",
    "a"
   ]
  },
  {
   "cell_type": "code",
   "execution_count": 10,
   "id": "add38233",
   "metadata": {},
   "outputs": [],
   "source": [
    "type(a)"
   ]
  },
  {
   "cell_type": "code",
   "execution_count": 23,
   "id": "1492ff82",
   "metadata": {},
   "outputs": [
    {
     "data": {
      "text/plain": [
       "float"
      ]
     },
     "execution_count": 23,
     "metadata": {},
     "output_type": "execute_result"
    }
   ],
   "source": [
    "a=False\n",
    "a"
   ]
  },
  {
   "cell_type": "code",
   "execution_count": 11,
   "id": "1df89e29",
   "metadata": {},
   "outputs": [],
   "source": [
    "a=False\n",
    "a"
   ]
  },
  {
   "cell_type": "code",
   "execution_count": 24,
   "id": "cc0bb167",
   "metadata": {},
   "outputs": [
    {
     "data": {
      "text/plain": [
       "str"
      ]
     },
     "execution_count": 24,
     "metadata": {},
     "output_type": "execute_result"
    }
   ],
   "source": [
    "a=\" My name is Fiziya\"\n",
    "a"
   ]
  },
  {
   "cell_type": "code",
   "execution_count": 13,
   "id": "0af23428",
   "metadata": {},
   "outputs": [],
   "source": [
    "a=2+7j\n",
    "a"
   ]
  },
  {
   "cell_type": "code",
   "execution_count": 25,
   "id": "95bf31b0",
   "metadata": {},
   "outputs": [
    {
     "data": {
      "text/plain": [
       "str"
      ]
     },
     "execution_count": 25,
     "metadata": {},
     "output_type": "execute_result"
    }
   ],
   "source": [
    "type(a)"
   ]
  },
  {
   "cell_type": "code",
   "execution_count": 14,
   "id": "3ba9d124",
   "metadata": {},
   "outputs": [],
   "source": [
    "### Operators in Python"
   ]
  },
  {
   "cell_type": "code",
   "execution_count": 26,
   "id": "ae4f5431",
   "metadata": {},
   "outputs": [
    {
     "data": {
      "text/plain": [
       "bool"
      ]
     },
     "execution_count": 26,
     "metadata": {},
     "output_type": "execute_result"
    }
   ],
   "source": [
    "#### Arithmetic Operators:\n",
    "Arithmetic operators are used to perform basic mathematical operations."
   ]
  },
  {
   "cell_type": "code",
   "execution_count": 18,
   "id": "1e0e089b",
   "metadata": {},
   "outputs": [],
   "source": [
    "a = 10\n",
    "b = 5\n",
    "a,b"
   ]
  },
  {
   "cell_type": "code",
   "execution_count": 14,
   "id": "98632d87",
   "metadata": {},
   "outputs": [
    {
     "ename": "NameError",
     "evalue": "name 'a' is not defined",
     "output_type": "error",
     "traceback": [
      "\u001b[1;31m---------------------------------------------------------------------------\u001b[0m",
      "\u001b[1;31mNameError\u001b[0m                                 Traceback (most recent call last)",
      "Cell \u001b[1;32mIn[14], line 1\u001b[0m\n\u001b[1;32m----> 1\u001b[0m a\u001b[38;5;241m+\u001b[39mb\n",
      "\u001b[1;31mNameError\u001b[0m: name 'a' is not defined"
     ]
    }
   ],
   "source": [
    "a+b"
   ]
  },
  {
   "cell_type": "code",
   "execution_count": 15,
   "id": "8dd742c9",
   "metadata": {},
   "outputs": [
    {
     "ename": "NameError",
     "evalue": "name 'a' is not defined",
     "output_type": "error",
     "traceback": [
      "\u001b[1;31m---------------------------------------------------------------------------\u001b[0m",
      "\u001b[1;31mNameError\u001b[0m                                 Traceback (most recent call last)",
      "Cell \u001b[1;32mIn[15], line 1\u001b[0m\n\u001b[1;32m----> 1\u001b[0m a\u001b[38;5;241m-\u001b[39mb\n",
      "\u001b[1;31mNameError\u001b[0m: name 'a' is not defined"
     ]
    }
   ],
   "source": [
    "a-b"
   ]
  },
  {
   "cell_type": "code",
   "execution_count": 16,
   "id": "98e5d066",
   "metadata": {},
   "outputs": [
    {
     "ename": "NameError",
     "evalue": "name 'a' is not defined",
     "output_type": "error",
     "traceback": [
      "\u001b[1;31m---------------------------------------------------------------------------\u001b[0m",
      "\u001b[1;31mNameError\u001b[0m                                 Traceback (most recent call last)",
      "Cell \u001b[1;32mIn[16], line 1\u001b[0m\n\u001b[1;32m----> 1\u001b[0m a\u001b[38;5;241m*\u001b[39mb\n",
      "\u001b[1;31mNameError\u001b[0m: name 'a' is not defined"
     ]
    }
   ],
   "source": [
    "a*b"
   ]
  },
  {
   "cell_type": "code",
   "execution_count": 17,
   "id": "ac866658",
   "metadata": {},
   "outputs": [
    {
     "ename": "NameError",
     "evalue": "name 'a' is not defined",
     "output_type": "error",
     "traceback": [
      "\u001b[1;31m---------------------------------------------------------------------------\u001b[0m",
      "\u001b[1;31mNameError\u001b[0m                                 Traceback (most recent call last)",
      "Cell \u001b[1;32mIn[17], line 1\u001b[0m\n\u001b[1;32m----> 1\u001b[0m a\u001b[38;5;241m/\u001b[39mb\n",
      "\u001b[1;31mNameError\u001b[0m: name 'a' is not defined"
     ]
    }
   ],
   "source": [
    "a/b\n"
   ]
  },
  {
   "cell_type": "code",
   "execution_count": null,
   "id": "aca6f63f",
   "metadata": {},
   "outputs": [],
   "source": [
    "a%b  # Modulus (returns the remainder of the division)"
   ]
  },
  {
   "cell_type": "code",
   "execution_count": null,
   "id": "53461f8f",
   "metadata": {},
   "outputs": [],
   "source": []
  },
  {
   "cell_type": "markdown",
   "id": "5e0234c6",
   "metadata": {},
   "source": [
    "# Relational Operators:\n",
    "    Relational operators are used to compare values and return True or False."
   ]
  },
  {
   "cell_type": "code",
   "execution_count": 21,
   "id": "b73dbf9b",
   "metadata": {
    "scrolled": true
   },
   "outputs": [
    {
     "data": {
      "text/plain": [
       "(100, 50)"
      ]
     },
     "execution_count": 21,
     "metadata": {},
     "output_type": "execute_result"
    }
   ],
   "source": [
    "a = 100\n",
    "b = 50\n",
    "\n",
    "a,b"
   ]
  },
  {
   "cell_type": "code",
   "execution_count": 22,
   "id": "3ab2be8e",
   "metadata": {},
   "outputs": [
    {
     "data": {
      "text/plain": [
       "False"
      ]
     },
     "execution_count": 22,
     "metadata": {},
     "output_type": "execute_result"
    }
   ],
   "source": [
    "# Equal to\n",
    "a == b"
   ]
  },
  {
   "cell_type": "code",
   "execution_count": 23,
   "id": "c14725e0",
   "metadata": {},
   "outputs": [
    {
     "data": {
      "text/plain": [
       "True"
      ]
     },
     "execution_count": 23,
     "metadata": {},
     "output_type": "execute_result"
    }
   ],
   "source": [
    "# Not equal to\n",
    "a != b "
   ]
  },
  {
   "cell_type": "code",
   "execution_count": 24,
   "id": "9e261c09",
   "metadata": {},
   "outputs": [
    {
     "data": {
      "text/plain": [
       "True"
      ]
     },
     "execution_count": 24,
     "metadata": {},
     "output_type": "execute_result"
    }
   ],
   "source": [
    "# Greater than\n",
    "a > b "
   ]
  },
  {
   "cell_type": "code",
   "execution_count": 25,
   "id": "4670112c",
   "metadata": {},
   "outputs": [
    {
     "data": {
      "text/plain": [
       "False"
      ]
     },
     "execution_count": 25,
     "metadata": {},
     "output_type": "execute_result"
    }
   ],
   "source": [
    "# Less than\n",
    "a < b "
   ]
  },
  {
   "cell_type": "code",
   "execution_count": 26,
   "id": "df57248f",
   "metadata": {},
   "outputs": [
    {
     "data": {
      "text/plain": [
       "True"
      ]
     },
     "execution_count": 26,
     "metadata": {},
     "output_type": "execute_result"
    }
   ],
   "source": [
    "# Greater than or equal to\n",
    "a >= b "
   ]
  },
  {
   "cell_type": "code",
   "execution_count": 27,
   "id": "bd72e589",
   "metadata": {},
   "outputs": [
    {
     "data": {
      "text/plain": [
       "False"
      ]
     },
     "execution_count": 27,
     "metadata": {},
     "output_type": "execute_result"
    }
   ],
   "source": [
    "# Less than or equal to\n",
    "a <= b"
   ]
  },
  {
   "cell_type": "markdown",
   "id": "eae0a703",
   "metadata": {},
   "source": [
    "\n",
    "# Logical Operators\n",
    "Logical operators are used to combine multiple conditions and return True or False."
   ]
  },
  {
   "cell_type": "code",
   "execution_count": 29,
   "id": "ff11029f",
   "metadata": {},
   "outputs": [],
   "source": [
    "x = True\n",
    "y = False"
   ]
  },
  {
   "cell_type": "code",
   "execution_count": 30,
   "id": "951e6912",
   "metadata": {
    "scrolled": true
   },
   "outputs": [
    {
     "data": {
      "text/plain": [
       "False"
      ]
     },
     "execution_count": 30,
     "metadata": {},
     "output_type": "execute_result"
    }
   ],
   "source": [
    "# Logical AND (both conditions must be True for the result to be True)\n",
    "x and y "
   ]
  },
  {
   "cell_type": "code",
   "execution_count": 31,
   "id": "e463512b",
   "metadata": {},
   "outputs": [
    {
     "data": {
      "text/plain": [
       "False"
      ]
     },
     "execution_count": 31,
     "metadata": {},
     "output_type": "execute_result"
    }
   ],
   "source": [
    "x & y"
   ]
  },
  {
   "cell_type": "code",
   "execution_count": 32,
   "id": "6faa287f",
   "metadata": {},
   "outputs": [
    {
     "data": {
      "text/plain": [
       "True"
      ]
     },
     "execution_count": 32,
     "metadata": {},
     "output_type": "execute_result"
    }
   ],
   "source": [
    "# Logical OR (at least one condition must be True for the result to be True)\n",
    "x or y "
   ]
  },
  {
   "cell_type": "code",
   "execution_count": 33,
   "id": "d0137829",
   "metadata": {},
   "outputs": [
    {
     "data": {
      "text/plain": [
       "True"
      ]
     },
     "execution_count": 33,
     "metadata": {},
     "output_type": "execute_result"
    }
   ],
   "source": [
    "x| y"
   ]
  },
  {
   "cell_type": "code",
   "execution_count": 34,
   "id": "6d6afd17",
   "metadata": {},
   "outputs": [
    {
     "data": {
      "text/plain": [
       "False"
      ]
     },
     "execution_count": 34,
     "metadata": {},
     "output_type": "execute_result"
    }
   ],
   "source": [
    "# Logical NOT (inverts the result)\n",
    "not x  "
   ]
  },
  {
   "cell_type": "markdown",
   "id": "f931c34f",
   "metadata": {},
   "source": [
    "# Assignment Operators:\n",
    "Assignment operators are used to assign values to variables."
   ]
  },
  {
   "cell_type": "code",
   "execution_count": 35,
   "id": "35c2c41d",
   "metadata": {},
   "outputs": [
    {
     "data": {
      "text/plain": [
       "10"
      ]
     },
     "execution_count": 35,
     "metadata": {},
     "output_type": "execute_result"
    }
   ],
   "source": [
    "a = 10  # Simple assignment\n",
    "a"
   ]
  },
  {
   "cell_type": "code",
   "execution_count": 36,
   "id": "8e365481",
   "metadata": {},
   "outputs": [
    {
     "data": {
      "text/plain": [
       "15"
      ]
     },
     "execution_count": 36,
     "metadata": {},
     "output_type": "execute_result"
    }
   ],
   "source": [
    "# Addition assignment (same as a = a + 5)\n",
    "a += 5 \n",
    "a"
   ]
  },
  {
   "cell_type": "code",
   "execution_count": 37,
   "id": "f9765378",
   "metadata": {},
   "outputs": [
    {
     "data": {
      "text/plain": [
       "12"
      ]
     },
     "execution_count": 37,
     "metadata": {},
     "output_type": "execute_result"
    }
   ],
   "source": [
    "# Subtraction assignment (same as a = a - 3)\n",
    "a -= 3 \n",
    "a"
   ]
  },
  {
   "cell_type": "code",
   "execution_count": 38,
   "id": "fdefd414",
   "metadata": {},
   "outputs": [
    {
     "data": {
      "text/plain": [
       "24"
      ]
     },
     "execution_count": 38,
     "metadata": {},
     "output_type": "execute_result"
    }
   ],
   "source": [
    "# Multiplication assignment (same as a = a * 2)\n",
    "a *= 2 \n",
    "a"
   ]
  },
  {
   "cell_type": "code",
   "execution_count": 39,
   "id": "b1149fac",
   "metadata": {},
   "outputs": [
    {
     "data": {
      "text/plain": [
       "6.0"
      ]
     },
     "execution_count": 39,
     "metadata": {},
     "output_type": "execute_result"
    }
   ],
   "source": [
    "# Division assignment (same as a = a / 4)\n",
    "a /= 4 \n",
    "a"
   ]
  },
  {
   "cell_type": "markdown",
   "id": "43a1f8a6",
   "metadata": {},
   "source": [
    "# Python Tokens\n",
    "\n",
    "In Python, a token is the smallest unit or building block of a program. It could be a keyword, identifier, operator, literal value, or any other meaningful part of the code. Tokens are essential for the Python interpreter to understand and parse the code correctly."
   ]
  },
  {
   "cell_type": "markdown",
   "id": "d01da529",
   "metadata": {},
   "source": [
    "# Keywords\n",
    "Keywords are reserved words in Python, and they have a specific meaning in the language. They cannot be used as variable names because Python treats them as special tokens."
   ]
  },
  {
   "cell_type": "code",
   "execution_count": 40,
   "id": "b9e3a377",
   "metadata": {},
   "outputs": [
    {
     "data": {
      "text/plain": [
       "True"
      ]
     },
     "execution_count": 40,
     "metadata": {},
     "output_type": "execute_result"
    }
   ],
   "source": [
    "True"
   ]
  },
  {
   "cell_type": "code",
   "execution_count": 41,
   "id": "e24ff68b",
   "metadata": {},
   "outputs": [
    {
     "ename": "SyntaxError",
     "evalue": "invalid syntax (1102136943.py, line 1)",
     "output_type": "error",
     "traceback": [
      "\u001b[1;36m  Cell \u001b[1;32mIn[41], line 1\u001b[1;36m\u001b[0m\n\u001b[1;33m    def\u001b[0m\n\u001b[1;37m       ^\u001b[0m\n\u001b[1;31mSyntaxError\u001b[0m\u001b[1;31m:\u001b[0m invalid syntax\n"
     ]
    }
   ],
   "source": [
    "def"
   ]
  },
  {
   "cell_type": "code",
   "execution_count": 42,
   "id": "4e835f59",
   "metadata": {},
   "outputs": [
    {
     "ename": "SyntaxError",
     "evalue": "cannot assign to True (1946322174.py, line 1)",
     "output_type": "error",
     "traceback": [
      "\u001b[1;36m  Cell \u001b[1;32mIn[42], line 1\u001b[1;36m\u001b[0m\n\u001b[1;33m    True=\"a\"\u001b[0m\n\u001b[1;37m    ^\u001b[0m\n\u001b[1;31mSyntaxError\u001b[0m\u001b[1;31m:\u001b[0m cannot assign to True\n"
     ]
    }
   ],
   "source": [
    "True=\"a\""
   ]
  },
  {
   "cell_type": "code",
   "execution_count": null,
   "id": "49c11f36",
   "metadata": {},
   "outputs": [],
   "source": [
    "# Here, \"if\" and \"else\" are keywords.\n",
    "if x > 5:\n",
    "    print(\"x is greater than 5\")\n",
    "else:\n",
    "    print(\"x is not greater than 5\")"
   ]
  },
  {
   "cell_type": "markdown",
   "id": "f49242d0",
   "metadata": {},
   "source": [
    "# Identifiers\n",
    "Identifiers are names given to variables, functions, classes, or other objects in Python. They help us refer to specific parts of the code."
   ]
  },
  {
   "cell_type": "code",
   "execution_count": 43,
   "id": "4c6a7bf2",
   "metadata": {},
   "outputs": [],
   "source": [
    "# \"count\" and \"result\" are identifiers.\n",
    "count = 10\n",
    "result = count * 2"
   ]
  },
  {
   "cell_type": "code",
   "execution_count": 44,
   "id": "4413667e",
   "metadata": {},
   "outputs": [],
   "source": [
    "Count=2"
   ]
  },
  {
   "cell_type": "code",
   "execution_count": 45,
   "id": "7ef1fa8f",
   "metadata": {},
   "outputs": [
    {
     "data": {
      "text/plain": [
       "10"
      ]
     },
     "execution_count": 45,
     "metadata": {},
     "output_type": "execute_result"
    }
   ],
   "source": [
    "count"
   ]
  },
  {
   "cell_type": "code",
   "execution_count": 46,
   "id": "d5a2e5d1",
   "metadata": {},
   "outputs": [
    {
     "data": {
      "text/plain": [
       "2"
      ]
     },
     "execution_count": 46,
     "metadata": {},
     "output_type": "execute_result"
    }
   ],
   "source": [
    "Count"
   ]
  },
  {
   "cell_type": "markdown",
   "id": "777d79ea",
   "metadata": {},
   "source": [
    "# Literals\n",
    "Literals are constant values that appear directly in the code. They can be numbers, strings, or Boolean values."
   ]
  },
  {
   "cell_type": "code",
   "execution_count": 47,
   "id": "afdf17df",
   "metadata": {},
   "outputs": [],
   "source": [
    "number_of_students = 5"
   ]
  },
  {
   "cell_type": "code",
   "execution_count": 48,
   "id": "daafd306",
   "metadata": {},
   "outputs": [],
   "source": [
    "pi = 3.14"
   ]
  },
  {
   "cell_type": "code",
   "execution_count": 49,
   "id": "09a499f0",
   "metadata": {},
   "outputs": [],
   "source": [
    "greeting = 'Hello'"
   ]
  },
  {
   "cell_type": "code",
   "execution_count": 50,
   "id": "5d103ab7",
   "metadata": {},
   "outputs": [],
   "source": [
    "is_raining = True"
   ]
  },
  {
   "cell_type": "code",
   "execution_count": 51,
   "id": "d5ab7b28",
   "metadata": {},
   "outputs": [],
   "source": [
    "# \"5\" and \"3.14\" are numeric literals, and \"'Hello'\" is a string literal.\n"
   ]
  },
  {
   "cell_type": "markdown",
   "id": "460e62d2",
   "metadata": {},
   "source": [
    "# Python String"
   ]
  },
  {
   "cell_type": "markdown",
   "id": "ab2859f0",
   "metadata": {},
   "source": [
    "# Creating a string:"
   ]
  },
  {
   "cell_type": "code",
   "execution_count": 68,
   "id": "19677926",
   "metadata": {},
   "outputs": [
    {
     "data": {
      "text/plain": [
       "'Fiziya'"
      ]
     },
     "execution_count": 68,
     "metadata": {},
     "output_type": "execute_result"
    }
   ],
   "source": [
    "# Using single quotes\n",
    "\n",
    "name = 'Fiziya'\n",
    "\n",
    "\n",
    "name"
   ]
  },
  {
   "cell_type": "markdown",
   "id": "739864f4",
   "metadata": {},
   "source": [
    "# Using double quotes\n",
    "\n",
    "message = \"Hello, how are you?\"\n",
    "\n",
    "message"
   ]
  },
  {
   "cell_type": "markdown",
   "id": "9567bcd5",
   "metadata": {},
   "source": [
    "# Using triple quotes for multi-line strings\n",
    "\n",
    "multiline_string = '''\n",
    "\n",
    "This is a multi-line\n",
    "string in Python.\n",
    "It can span across multiple lines.\n",
    "\n",
    "'''\n",
    "\n",
    "multiline_string"
   ]
  },
  {
   "cell_type": "markdown",
   "id": "ee69b67b",
   "metadata": {},
   "source": [
    "#                Extracting Individual Characters"
   ]
  },
  {
   "cell_type": "markdown",
   "id": "9b1a1ce0",
   "metadata": {},
   "source": [
    "# String Functions\n",
    "Strings have several built-in methods that allow you to perform various operations on them."
   ]
  },
  {
   "cell_type": "code",
   "execution_count": 71,
   "id": "98b1e2aa",
   "metadata": {},
   "outputs": [],
   "source": [
    "message = \"Hello, how are you?\""
   ]
  },
  {
   "cell_type": "code",
   "execution_count": 72,
   "id": "35be7ea7",
   "metadata": {},
   "outputs": [
    {
     "data": {
      "text/plain": [
       "19"
      ]
     },
     "execution_count": 72,
     "metadata": {},
     "output_type": "execute_result"
    }
   ],
   "source": [
    "len(message)"
   ]
  },
  {
   "cell_type": "code",
   "execution_count": 73,
   "id": "a8987ba1",
   "metadata": {},
   "outputs": [
    {
     "data": {
      "text/plain": [
       "'HELLO, HOW ARE YOU?'"
      ]
     },
     "execution_count": 73,
     "metadata": {},
     "output_type": "execute_result"
    }
   ],
   "source": [
    "message.upper()"
   ]
  },
  {
   "cell_type": "code",
   "execution_count": 74,
   "id": "b6203baf",
   "metadata": {},
   "outputs": [
    {
     "data": {
      "text/plain": [
       "'hello, how are you?'"
      ]
     },
     "execution_count": 74,
     "metadata": {},
     "output_type": "execute_result"
    }
   ],
   "source": [
    "message.lower()"
   ]
  },
  {
   "cell_type": "code",
   "execution_count": 75,
   "id": "09a226db",
   "metadata": {},
   "outputs": [
    {
     "data": {
      "text/plain": [
       "'zello, how are you?'"
      ]
     },
     "execution_count": 75,
     "metadata": {},
     "output_type": "execute_result"
    }
   ],
   "source": [
    "message.replace('H','z')"
   ]
  },
  {
   "cell_type": "code",
   "execution_count": 76,
   "id": "66872ee9",
   "metadata": {},
   "outputs": [],
   "source": [
    "str1= \"Hello Hello world\""
   ]
  },
  {
   "cell_type": "code",
   "execution_count": 77,
   "id": "f32c7cf5",
   "metadata": {},
   "outputs": [
    {
     "data": {
      "text/plain": [
       "2"
      ]
     },
     "execution_count": 77,
     "metadata": {},
     "output_type": "execute_result"
    }
   ],
   "source": [
    "str1.count(\"Hello\")"
   ]
  },
  {
   "cell_type": "code",
   "execution_count": 78,
   "id": "b482cab6",
   "metadata": {},
   "outputs": [
    {
     "data": {
      "text/plain": [
       "12"
      ]
     },
     "execution_count": 78,
     "metadata": {},
     "output_type": "execute_result"
    }
   ],
   "source": [
    "str1.find(\"wprld\")"
   ]
  },
  {
   "cell_type": "markdown",
   "id": "d6a3bcff",
   "metadata": {},
   "source": [
    "#    # Splitting the string into a list of words\n",
    "\n",
    "    message.split()"
   ]
  },
  {
   "cell_type": "code",
   "execution_count": null,
   "id": "edc51344",
   "metadata": {},
   "outputs": [],
   "source": []
  }
 ],
 "metadata": {
  "kernelspec": {
   "display_name": "Python 3 (ipykernel)",
   "language": "python",
   "name": "python3"
  },
  "language_info": {
   "codemirror_mode": {
    "name": "ipython",
    "version": 3
   },
   "file_extension": ".py",
   "mimetype": "text/x-python",
   "name": "python",
   "nbconvert_exporter": "python",
   "pygments_lexer": "ipython3",
   "version": "3.11.4"
  }
 },
 "nbformat": 4,
 "nbformat_minor": 5
}
